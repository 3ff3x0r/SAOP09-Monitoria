{
 "cells": [
  {
   "cell_type": "markdown",
   "metadata": {
    "id": "JLT6lRMAoZHy"
   },
   "source": [
    "<p style =\"text-align:center\">\n",
    "    <img src=\"http://epecora.com.br/DataFiles/BannerUFPR.png\" width=\"700\" alt=\"PPGOLD/PPGMNE Python:INTRO\"  />\n",
    "</p>\n",
    "\n",
    "\n",
    "# **Python Básico**\n",
    "\n",
    "\n",
    "## Exercícios Referentes ao Notebook LDS_Python_1 e LDS_Python_2\n",
    "*Para que estes exercícios sejam úteis ao aprendizado, antes de iniciar, desative no menu o uso de assitência por AI.*\n",
    "\n",
    "Iremos exercitar os a seguir os temas desenvolvidos na aula de introdução ao Python, cobrindo sintaxe, comentários, variáveis e tipos de dados."
   ]
  },
  {
   "cell_type": "markdown",
   "metadata": {
    "id": "2_P6mr9km7jD"
   },
   "source": [
    "### 1.  Exercícios de Revisão"
   ]
  },
  {
   "cell_type": "markdown",
   "metadata": {
    "id": "b5DRzDnAqYS0"
   },
   "source": [
    "a) A indentação em Python é um elemento crucial da linguagem, pois define a estrutura do código. Em vez de usar chaves {} ou outros delimitadores, como em algumas outras linguagens de programação, Python usa a indentação (geralmente com 4 espaços) para agrupar blocos de código. Ela é obrigatória para definir instruções como condicionais, laços e funções.<br>\n",
    "**Exemplo**:\n",
    "<pre style=\"background: #f4f4f4; border: 1px solid #ddd; padding: 10px;\">\n",
    "\n",
    "if 5 > 2:\n",
    "  print(\"Cinco é maior que dois!\")\n",
    " \n",
    "</pre>\n",
    "\n",
    "\n",
    "&nbsp;&nbsp;&nbsp;&nbsp;Se a indentação não for feita corretamente, o código resultará em erros de sintaxe ou funcionará de maneira incorreta. O código abaixo não está rodando, corrija o erro para que apresente o resultado esperado:"
   ]
  },
  {
   "cell_type": "code",
   "execution_count": 3,
   "metadata": {
    "colab": {
     "base_uri": "https://localhost:8080/",
     "height": 106
    },
    "id": "HjDXrQYgqKeN",
    "outputId": "a4476a0a-3119-4d2a-f061-3199ffb9b937"
   },
   "outputs": [
    {
     "ename": "IndentationError",
     "evalue": "expected an indented block after 'if' statement on line 4 (558977624.py, line 5)",
     "output_type": "error",
     "traceback": [
      "\u001b[0;36m  Cell \u001b[0;32mIn[3], line 5\u001b[0;36m\u001b[0m\n\u001b[0;31m    print(\"x é menor que y\")\u001b[0m\n\u001b[0m    ^\u001b[0m\n\u001b[0;31mIndentationError\u001b[0m\u001b[0;31m:\u001b[0m expected an indented block after 'if' statement on line 4\n"
     ]
    }
   ],
   "source": [
    "x = 3\n",
    "y = 5\n",
    "\n",
    "if x < y:\n",
    "print(\"x é menor que y\")\n",
    "else:\n",
    "print(\"x é maior que y\")"
   ]
  },
  {
   "cell_type": "code",
   "execution_count": 1,
   "metadata": {},
   "outputs": [
    {
     "name": "stdout",
     "output_type": "stream",
     "text": [
      "x is smaller than y\n"
     ]
    }
   ],
   "source": [
    "# Solução\n",
    "x = 3\n",
    "y = 5\n",
    "\n",
    "if x < y:\n",
    "  print(\"x is smaller than y\")\n",
    "else:\n",
    "  print(\"x is greater than or equal to y\")"
   ]
  },
  {
   "cell_type": "markdown",
   "metadata": {},
   "source": [
    "b) Erros de Sintaxe podem acontecer por vários motivos, incluindo digitação. Corrija os erros de digitação no código a seguir para que apresente o resultado abaixo:\n",
    "<pre style=\"background: #f4f4f4; border: 1px solid #ddd; padding: 10px;\">\n",
    "A soma de 25 + 5 é igual a 30?\n",
    "True\n",
    "</pre>"
   ]
  },
  {
   "cell_type": "code",
   "execution_count": 9,
   "metadata": {},
   "outputs": [
    {
     "ename": "SyntaxError",
     "evalue": "unterminated string literal (detected at line 3) (626366718.py, line 3)",
     "output_type": "error",
     "traceback": [
      "\u001b[0;36m  Cell \u001b[0;32mIn[9], line 3\u001b[0;36m\u001b[0m\n\u001b[0;31m    print(\"A soma de 25 + 5 é igual a 30?')\u001b[0m\n\u001b[0m          ^\u001b[0m\n\u001b[0;31mSyntaxError\u001b[0m\u001b[0;31m:\u001b[0m unterminated string literal (detected at line 3)\n"
     ]
    }
   ],
   "source": [
    "X = 25\n",
    "b = x + 5\n",
    "Print(\"A soma de 25 + 5 é igual a 30?')\n",
    "b == 30\n"
   ]
  },
  {
   "cell_type": "code",
   "execution_count": 3,
   "metadata": {},
   "outputs": [
    {
     "name": "stdout",
     "output_type": "stream",
     "text": [
      "A soma de 25 + 5 é igual a 30?\n"
     ]
    },
    {
     "data": {
      "text/plain": [
       "True"
      ]
     },
     "execution_count": 3,
     "metadata": {},
     "output_type": "execute_result"
    }
   ],
   "source": [
    "X = 25\n",
    "b = X + 5\n",
    "print(\"A soma de 25 + 5 é igual a 30?\")\n",
    "b == 30"
   ]
  },
  {
   "cell_type": "markdown",
   "metadata": {
    "id": "EiJnnWyCszJg"
   },
   "source": [
    "c) Comentários ajudam a deixar o código mais fácil de entender pois algumas decisoes ou mesmo a lógica podem se tornar complexas ao desenvolver um programa maior. Um comentario inicia com o símbolo #,  complete o codigo abaixo, conforme o modelo, inserindo comentarios:  \n",
    "<pre style=\"background: #f4f4f4; border: 1px solid #ddd; padding: 10px;\">\n",
    "# Este programa calcula a soma de dois numeros\n",
    "\n",
    "a = 5  # atribui 5 a variavel a\n",
    "b = 3  # atribui 3 a variavel b\n",
    "sum = a + b  # Soma a e b, guardando o resultado na variavel sum\n",
    "\n",
    "print(\"The sum is:\", sum)  # imprime a variavel sum\n",
    "\n",
    "</pre>"
   ]
  },
  {
   "cell_type": "code",
   "execution_count": 8,
   "metadata": {
    "colab": {
     "base_uri": "https://localhost:8080/"
    },
    "id": "zH-BcclKqMKi",
    "outputId": "ce302ff0-c0cc-4514-af56-eb9a11818b7f"
   },
   "outputs": [
    {
     "name": "stdout",
     "output_type": "stream",
     "text": [
      "Resultado: 32\n"
     ]
    }
   ],
   "source": [
    "#\n",
    "a = 2  #\n",
    "b = a + 3  #\n",
    "oper = a**b  #\n",
    "\n",
    "print(\"Resultado:\", oper)  #\n"
   ]
  },
  {
   "cell_type": "code",
   "execution_count": 4,
   "metadata": {},
   "outputs": [
    {
     "name": "stdout",
     "output_type": "stream",
     "text": [
      "Resultado: 32\n"
     ]
    }
   ],
   "source": [
    "# Solução\n",
    "a = 2  # A variável 'a' recebe o valor 2\n",
    "b = a + 3  # A variável 'b' recebe o valor de 'a' (2) somado a 3, ou seja, b = 5\n",
    "oper = a**b  # A variável 'oper' armazena o valor de 'a' elevado à potência de 'b', ou seja, 2^5 = 32\n",
    "\n",
    "print(\"Resultado:\", oper)  # Exibe na tela o texto \"Resultado:\" seguido do valor de 'oper', que é 32"
   ]
  },
  {
   "cell_type": "markdown",
   "metadata": {
    "id": "MnmSmgSXwthC"
   },
   "source": [
    "d) Muitas vezes iremos comentar um bloco de código, pois não desejamos que ele seja executado para um teste por exemplo. Podemos colocar # no início de todas as linhas, selecionando o código e pressionando *CONTROL /*  Use o atalho *CONTROL /* para remover o cometário do código abaixo e execute o código."
   ]
  },
  {
   "cell_type": "code",
   "execution_count": null,
   "metadata": {
    "id": "OtzNvscFw4dh"
   },
   "outputs": [],
   "source": [
    "# a = 2\n",
    "# b = a + 7\n",
    "# oper = a**b\n",
    "\n",
    "# print(\"Resultado:\", oper)"
   ]
  },
  {
   "cell_type": "code",
   "execution_count": null,
   "metadata": {},
   "outputs": [],
   "source": [
    "# Solução\n",
    "\n",
    "a = 2\n",
    "b = a + 7\n",
    "oper = a**b\n",
    "\n",
    "print(\"Resultado:\", oper)"
   ]
  },
  {
   "cell_type": "markdown",
   "metadata": {
    "id": "xChBCJofzsHc"
   },
   "source": [
    "## 2. Problemas\n"
   ]
  },
  {
   "cell_type": "markdown",
   "metadata": {
    "id": "94sP7zPO3Pob"
   },
   "source": [
    "a) Você precisa implementar um código em Python que use o valor principal (capital) inicial, a taxa de juros por período e o tempo em que o dinheiro é emprestado ou investido. Com base nesses valores, o programa deve calcular os juros simples e o montante total ao final do período."
   ]
  },
  {
   "cell_type": "code",
   "execution_count": null,
   "metadata": {},
   "outputs": [],
   "source": [
    "# variáveis\n",
    "capital = 10_250 # R$ 10.250\n",
    "taxa_juros = 7 # valor em percentual 10%\n",
    "tempo = 3 # tempo investido, por 3 meses neste caso"
   ]
  },
  {
   "cell_type": "code",
   "execution_count": null,
   "metadata": {},
   "outputs": [],
   "source": [
    "# Escreva seu código neste bloco...\n"
   ]
  },
  {
   "cell_type": "code",
   "execution_count": 5,
   "metadata": {},
   "outputs": [
    {
     "name": "stdout",
     "output_type": "stream",
     "text": [
      "Juros simples: 2152.50\n",
      "Montante total ao final do período: 12402.50\n"
     ]
    }
   ],
   "source": [
    "# Solução:\n",
    "capital = 10_250 # R$ 10.250\n",
    "taxa_juros = 7 # valor em percentual 10%\n",
    "tempo = 3 # tempo investido, por 3 meses neste caso\n",
    "\n",
    "# Converter para decimal\n",
    "taxa_juros = taxa_juros / 100\n",
    "\n",
    "# Calcula os juros simples\n",
    "juros_simples = capital * taxa_juros * tempo\n",
    "\n",
    "# Calcula o montante total (capital + juros)\n",
    "montante_total = capital + juros_simples\n",
    "\n",
    "# Exibe o resultado\n",
    "print(f\"Juros simples: {juros_simples:.2f}\")\n",
    "print(f\"Montante total ao final do período: {montante_total:.2f}\")"
   ]
  },
  {
   "cell_type": "markdown",
   "metadata": {},
   "source": [
    "b) O funcionário precisa dividir um número de maçãs igualmente entre os alunos que vieram jantar no RU e verificar quantas maçãs sobram ao final. Ele conta que existem 67 maçã na bandeja e o total de 13 alunos na fila. Complete o bloco de código em branco, usando as operações // e %, para resolver o problema.\n",
    "\n",
    "<img src=https://upload.wikimedia.org/wikipedia/commons/thumb/1/15/Red_Apple.jpg/800px-Red_Apple.jpg alt=\"Maçã\" width=\"200\"/>"
   ]
  },
  {
   "cell_type": "code",
   "execution_count": null,
   "metadata": {},
   "outputs": [],
   "source": [
    "# Quantidade de maçãs e pessoas\n",
    "macas = 67\n",
    "pessoas = 13"
   ]
  },
  {
   "cell_type": "code",
   "execution_count": null,
   "metadata": {},
   "outputs": [],
   "source": [
    "## insira seu código aqui\n",
    "\n"
   ]
  },
  {
   "cell_type": "code",
   "execution_count": null,
   "metadata": {},
   "outputs": [],
   "source": [
    "# Exibindo o resultado\n",
    "print(\"Cada pessoa recebe\", macas_por_pessoa, \"maçãs.\")\n",
    "print(\"Sobraram\", sobras, \"maçãs.\")"
   ]
  },
  {
   "cell_type": "code",
   "execution_count": 6,
   "metadata": {},
   "outputs": [
    {
     "name": "stdout",
     "output_type": "stream",
     "text": [
      "Cada pessoa recebe 5 maçãs.\n",
      "Sobraram 2 maçãs.\n"
     ]
    }
   ],
   "source": [
    "#Solução\n",
    "# Quantidade de maçãs e pessoas\n",
    "macas = 67\n",
    "pessoas = 13\n",
    "\n",
    "# Divisão inteira (quantas maçãs cada pessoa recebe)\n",
    "macas_por_pessoa = macas // pessoas\n",
    "\n",
    "# Resto da divisão (quantas maçãs sobram)\n",
    "sobras = macas % pessoas\n",
    "\n",
    "# Exibindo o resultado\n",
    "print(\"Cada pessoa recebe\", macas_por_pessoa, \"maçãs.\")\n",
    "print(\"Sobraram\", sobras, \"maçãs.\")\n"
   ]
  },
  {
   "cell_type": "markdown",
   "metadata": {
    "id": "4jIR9dzv6kHq"
   },
   "source": [
    "c) Para entrar dados em seu programa no tempo de execução é possível usar a função *input*:\n",
    "<pre style=\"background: #f4f4f4; border: 1px solid #ddd; padding: 10px;\">\n",
    "    variavel = input()\n",
    "</pre>\n",
    "&nbsp;&nbsp;&nbsp;&nbsp;Imagine que você está implementando um sistema para verificar se os alunos de uma turma estudantil passaram na disciplina ou não. Para isso solicite que o usuário insira as notas das 4 provas realizadas por um estudante e calcule a média. Após isso, emita uma resposta booleana (True ou False) se o estudante passou na disciplina pensando que a média mínima para aprovação é que seja pelo menos 5."
   ]
  },
  {
   "cell_type": "code",
   "execution_count": null,
   "metadata": {
    "colab": {
     "base_uri": "https://localhost:8080/"
    },
    "id": "mqUWiAa15Mmg",
    "outputId": "345544b5-7ae3-431a-a63f-f8510e27057c"
   },
   "outputs": [],
   "source": [
    "print(\"Entre com as notas parciais:\")\n",
    "p1=float (input('P1: ')) #float garante que o dado inserido será do tipo float. O default é string.\n",
    "# continue com o seu código a partir daqui...\n"
   ]
  },
  {
   "cell_type": "code",
   "execution_count": 7,
   "metadata": {},
   "outputs": [
    {
     "name": "stdout",
     "output_type": "stream",
     "text": [
      "Entre com as notas parciais:\n"
     ]
    },
    {
     "name": "stdin",
     "output_type": "stream",
     "text": [
      "P1:  7\n",
      "P2:  6\n",
      "P3:  5\n",
      "P4:  4\n"
     ]
    },
    {
     "name": "stdout",
     "output_type": "stream",
     "text": [
      "Media= 5.5\n",
      "Aprovado: True\n"
     ]
    }
   ],
   "source": [
    "# Solução\n",
    "print(\"Entre com as notas parciais:\")\n",
    "p1=float (input('P1: ')) #float garante que o dado inserido será do tipo float. O default é string.\n",
    "p2=float (input('P2: '))\n",
    "p3=float (input('P3: '))\n",
    "p4=float (input('P4: '))\n",
    "n=p1+p2+p3+p4\n",
    "n/=4\n",
    "print(\"Media=\",n)\n",
    "print(\"Aprovado:\",n>=5)"
   ]
  }
 ],
 "metadata": {
  "colab": {
   "provenance": []
  },
  "kernelspec": {
   "display_name": "Python 3 (ipykernel)",
   "language": "python",
   "name": "python3"
  },
  "language_info": {
   "codemirror_mode": {
    "name": "ipython",
    "version": 3
   },
   "file_extension": ".py",
   "mimetype": "text/x-python",
   "name": "python",
   "nbconvert_exporter": "python",
   "pygments_lexer": "ipython3",
   "version": "3.12.5"
  }
 },
 "nbformat": 4,
 "nbformat_minor": 4
}
